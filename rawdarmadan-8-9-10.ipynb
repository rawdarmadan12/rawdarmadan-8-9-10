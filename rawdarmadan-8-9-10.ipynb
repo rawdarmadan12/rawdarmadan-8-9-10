{
 "cells": [
  {
   "cell_type": "code",
   "execution_count": 1,
   "id": "40a1443b",
   "metadata": {
    "_cell_guid": "b1076dfc-b9ad-4769-8c92-a6c4dae69d19",
    "_uuid": "8f2839f25d086af736a60e9eeb907d3b93b6e0e5",
    "execution": {
     "iopub.execute_input": "2023-12-17T01:01:25.441096Z",
     "iopub.status.busy": "2023-12-17T01:01:25.440430Z",
     "iopub.status.idle": "2023-12-17T01:01:25.916913Z",
     "shell.execute_reply": "2023-12-17T01:01:25.915227Z"
    },
    "papermill": {
     "duration": 0.486887,
     "end_time": "2023-12-17T01:01:25.920484",
     "exception": false,
     "start_time": "2023-12-17T01:01:25.433597",
     "status": "completed"
    },
    "tags": []
   },
   "outputs": [],
   "source": [
    "# This Python 3 environment comes with many helpful analytics libraries installed\n",
    "# It is defined by the kaggle/python Docker image: https://github.com/kaggle/docker-python\n",
    "# For example, here's several helpful packages to load\n",
    "\n",
    "import numpy as np # linear algebra\n",
    "import pandas as pd # data processing, CSV file I/O (e.g. pd.read_csv)\n",
    "\n",
    "# Input data files are available in the read-only \"../input/\" directory\n",
    "# For example, running this (by clicking run or pressing Shift+Enter) will list all files under the input directory\n",
    "\n",
    "import os\n",
    "for dirname, _, filenames in os.walk('/kaggle/input'):\n",
    "    for filename in filenames:\n",
    "        print(os.path.join(dirname, filename))\n",
    "\n",
    "# You can write up to 20GB to the current directory (/kaggle/working/) that gets preserved as output when you create a version using \"Save & Run All\" \n",
    "# You can also write temporary files to /kaggle/temp/, but they won't be saved outside of the current session"
   ]
  },
  {
   "cell_type": "markdown",
   "id": "959526de",
   "metadata": {
    "papermill": {
     "duration": 0.003909,
     "end_time": "2023-12-17T01:01:25.929129",
     "exception": false,
     "start_time": "2023-12-17T01:01:25.925220",
     "status": "completed"
    },
    "tags": []
   },
   "source": [
    "# Expioring Dataset\n",
    "\n",
    "\n"
   ]
  },
  {
   "cell_type": "code",
   "execution_count": 2,
   "id": "42d34c8f",
   "metadata": {
    "execution": {
     "iopub.execute_input": "2023-12-17T01:01:25.939569Z",
     "iopub.status.busy": "2023-12-17T01:01:25.939034Z",
     "iopub.status.idle": "2023-12-17T01:01:25.943948Z",
     "shell.execute_reply": "2023-12-17T01:01:25.942987Z"
    },
    "papermill": {
     "duration": 0.01289,
     "end_time": "2023-12-17T01:01:25.946248",
     "exception": false,
     "start_time": "2023-12-17T01:01:25.933358",
     "status": "completed"
    },
    "tags": []
   },
   "outputs": [],
   "source": [
    "import numpy as np\n",
    "\n"
   ]
  },
  {
   "cell_type": "code",
   "execution_count": null,
   "id": "5b9298ca",
   "metadata": {
    "papermill": {
     "duration": 0.003563,
     "end_time": "2023-12-17T01:01:25.953792",
     "exception": false,
     "start_time": "2023-12-17T01:01:25.950229",
     "status": "completed"
    },
    "tags": []
   },
   "outputs": [],
   "source": []
  },
  {
   "cell_type": "code",
   "execution_count": null,
   "id": "42471731",
   "metadata": {
    "papermill": {
     "duration": 0.003526,
     "end_time": "2023-12-17T01:01:25.961047",
     "exception": false,
     "start_time": "2023-12-17T01:01:25.957521",
     "status": "completed"
    },
    "tags": []
   },
   "outputs": [],
   "source": []
  },
  {
   "cell_type": "code",
   "execution_count": null,
   "id": "61dca1b6",
   "metadata": {
    "papermill": {
     "duration": 0.003427,
     "end_time": "2023-12-17T01:01:25.968081",
     "exception": false,
     "start_time": "2023-12-17T01:01:25.964654",
     "status": "completed"
    },
    "tags": []
   },
   "outputs": [],
   "source": []
  },
  {
   "cell_type": "code",
   "execution_count": null,
   "id": "36c381d1",
   "metadata": {
    "papermill": {
     "duration": 0.003355,
     "end_time": "2023-12-17T01:01:25.974998",
     "exception": false,
     "start_time": "2023-12-17T01:01:25.971643",
     "status": "completed"
    },
    "tags": []
   },
   "outputs": [],
   "source": []
  },
  {
   "cell_type": "code",
   "execution_count": null,
   "id": "1125caa9",
   "metadata": {
    "papermill": {
     "duration": 0.003368,
     "end_time": "2023-12-17T01:01:25.981946",
     "exception": false,
     "start_time": "2023-12-17T01:01:25.978578",
     "status": "completed"
    },
    "tags": []
   },
   "outputs": [],
   "source": []
  },
  {
   "cell_type": "code",
   "execution_count": null,
   "id": "038028d3",
   "metadata": {
    "papermill": {
     "duration": 0.003342,
     "end_time": "2023-12-17T01:01:25.988941",
     "exception": false,
     "start_time": "2023-12-17T01:01:25.985599",
     "status": "completed"
    },
    "tags": []
   },
   "outputs": [],
   "source": []
  },
  {
   "cell_type": "code",
   "execution_count": null,
   "id": "419c8ab6",
   "metadata": {
    "papermill": {
     "duration": 0.003316,
     "end_time": "2023-12-17T01:01:25.995852",
     "exception": false,
     "start_time": "2023-12-17T01:01:25.992536",
     "status": "completed"
    },
    "tags": []
   },
   "outputs": [],
   "source": []
  },
  {
   "cell_type": "code",
   "execution_count": null,
   "id": "53795738",
   "metadata": {
    "papermill": {
     "duration": 0.004169,
     "end_time": "2023-12-17T01:01:26.003687",
     "exception": false,
     "start_time": "2023-12-17T01:01:25.999518",
     "status": "completed"
    },
    "tags": []
   },
   "outputs": [],
   "source": []
  }
 ],
 "metadata": {
  "kaggle": {
   "accelerator": "none",
   "dataSources": [],
   "dockerImageVersionId": 30626,
   "isGpuEnabled": false,
   "isInternetEnabled": false,
   "language": "python",
   "sourceType": "notebook"
  },
  "kernelspec": {
   "display_name": "Python 3",
   "language": "python",
   "name": "python3"
  },
  "language_info": {
   "codemirror_mode": {
    "name": "ipython",
    "version": 3
   },
   "file_extension": ".py",
   "mimetype": "text/x-python",
   "name": "python",
   "nbconvert_exporter": "python",
   "pygments_lexer": "ipython3",
   "version": "3.10.12"
  },
  "papermill": {
   "default_parameters": {},
   "duration": 4.957955,
   "end_time": "2023-12-17T01:01:26.730897",
   "environment_variables": {},
   "exception": null,
   "input_path": "__notebook__.ipynb",
   "output_path": "__notebook__.ipynb",
   "parameters": {},
   "start_time": "2023-12-17T01:01:21.772942",
   "version": "2.4.0"
  }
 },
 "nbformat": 4,
 "nbformat_minor": 5
}
