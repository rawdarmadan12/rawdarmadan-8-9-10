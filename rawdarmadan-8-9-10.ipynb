{
 "cells": [
  {
   "cell_type": "code",
   "execution_count": 1,
   "id": "4bd65503",
   "metadata": {
    "_cell_guid": "b1076dfc-b9ad-4769-8c92-a6c4dae69d19",
    "_uuid": "8f2839f25d086af736a60e9eeb907d3b93b6e0e5",
    "execution": {
     "iopub.execute_input": "2023-12-17T01:15:07.205365Z",
     "iopub.status.busy": "2023-12-17T01:15:07.204803Z",
     "iopub.status.idle": "2023-12-17T01:15:08.084997Z",
     "shell.execute_reply": "2023-12-17T01:15:08.083657Z"
    },
    "papermill": {
     "duration": 0.889067,
     "end_time": "2023-12-17T01:15:08.088040",
     "exception": false,
     "start_time": "2023-12-17T01:15:07.198973",
     "status": "completed"
    },
    "tags": []
   },
   "outputs": [],
   "source": [
    "# This Python 3 environment comes with many helpful analytics libraries installed\n",
    "# It is defined by the kaggle/python Docker image: https://github.com/kaggle/docker-python\n",
    "# For example, here's several helpful packages to load\n",
    "\n",
    "import numpy as np # linear algebra\n",
    "import pandas as pd # data processing, CSV file I/O (e.g. pd.read_csv)\n",
    "\n",
    "# Input data files are available in the read-only \"../input/\" directory\n",
    "# For example, running this (by clicking run or pressing Shift+Enter) will list all files under the input directory\n",
    "\n",
    "import os\n",
    "for dirname, _, filenames in os.walk('/kaggle/input'):\n",
    "    for filename in filenames:\n",
    "        print(os.path.join(dirname, filename))\n",
    "\n",
    "# You can write up to 20GB to the current directory (/kaggle/working/) that gets preserved as output when you create a version using \"Save & Run All\" \n",
    "# You can also write temporary files to /kaggle/temp/, but they won't be saved outside of the current session"
   ]
  },
  {
   "cell_type": "markdown",
   "id": "96a12158",
   "metadata": {
    "papermill": {
     "duration": 0.003336,
     "end_time": "2023-12-17T01:15:08.095191",
     "exception": false,
     "start_time": "2023-12-17T01:15:08.091855",
     "status": "completed"
    },
    "tags": []
   },
   "source": [
    "# Expioring Dataset\n",
    "\n",
    "\n"
   ]
  },
  {
   "cell_type": "code",
   "execution_count": 2,
   "id": "6cf18e79",
   "metadata": {
    "execution": {
     "iopub.execute_input": "2023-12-17T01:15:08.104581Z",
     "iopub.status.busy": "2023-12-17T01:15:08.103963Z",
     "iopub.status.idle": "2023-12-17T01:15:09.488352Z",
     "shell.execute_reply": "2023-12-17T01:15:09.487223Z"
    },
    "papermill": {
     "duration": 1.392293,
     "end_time": "2023-12-17T01:15:09.491257",
     "exception": false,
     "start_time": "2023-12-17T01:15:08.098964",
     "status": "completed"
    },
    "tags": []
   },
   "outputs": [],
   "source": [
    "import numpy as np\n",
    "import pandas as pd\n",
    "import matplotlib.pyplot as plt\n",
    "import seaborn as sns\n",
    "\n",
    "\n"
   ]
  },
  {
   "cell_type": "code",
   "execution_count": null,
   "id": "c1a99c42",
   "metadata": {
    "papermill": {
     "duration": 0.003249,
     "end_time": "2023-12-17T01:15:09.498646",
     "exception": false,
     "start_time": "2023-12-17T01:15:09.495397",
     "status": "completed"
    },
    "tags": []
   },
   "outputs": [],
   "source": []
  },
  {
   "cell_type": "code",
   "execution_count": null,
   "id": "1009bf9b",
   "metadata": {
    "papermill": {
     "duration": 0.002978,
     "end_time": "2023-12-17T01:15:09.504996",
     "exception": false,
     "start_time": "2023-12-17T01:15:09.502018",
     "status": "completed"
    },
    "tags": []
   },
   "outputs": [],
   "source": []
  },
  {
   "cell_type": "code",
   "execution_count": null,
   "id": "5b9ec4e5",
   "metadata": {
    "papermill": {
     "duration": 0.003047,
     "end_time": "2023-12-17T01:15:09.511250",
     "exception": false,
     "start_time": "2023-12-17T01:15:09.508203",
     "status": "completed"
    },
    "tags": []
   },
   "outputs": [],
   "source": []
  },
  {
   "cell_type": "code",
   "execution_count": null,
   "id": "5828b24b",
   "metadata": {
    "papermill": {
     "duration": 0.002932,
     "end_time": "2023-12-17T01:15:09.517492",
     "exception": false,
     "start_time": "2023-12-17T01:15:09.514560",
     "status": "completed"
    },
    "tags": []
   },
   "outputs": [],
   "source": []
  },
  {
   "cell_type": "code",
   "execution_count": null,
   "id": "20457161",
   "metadata": {
    "papermill": {
     "duration": 0.002883,
     "end_time": "2023-12-17T01:15:09.523542",
     "exception": false,
     "start_time": "2023-12-17T01:15:09.520659",
     "status": "completed"
    },
    "tags": []
   },
   "outputs": [],
   "source": []
  }
 ],
 "metadata": {
  "kaggle": {
   "accelerator": "none",
   "dataSources": [],
   "dockerImageVersionId": 30626,
   "isGpuEnabled": false,
   "isInternetEnabled": false,
   "language": "python",
   "sourceType": "notebook"
  },
  "kernelspec": {
   "display_name": "Python 3",
   "language": "python",
   "name": "python3"
  },
  "language_info": {
   "codemirror_mode": {
    "name": "ipython",
    "version": 3
   },
   "file_extension": ".py",
   "mimetype": "text/x-python",
   "name": "python",
   "nbconvert_exporter": "python",
   "pygments_lexer": "ipython3",
   "version": "3.10.12"
  },
  "papermill": {
   "default_parameters": {},
   "duration": 7.525368,
   "end_time": "2023-12-17T01:15:10.149671",
   "environment_variables": {},
   "exception": null,
   "input_path": "__notebook__.ipynb",
   "output_path": "__notebook__.ipynb",
   "parameters": {},
   "start_time": "2023-12-17T01:15:02.624303",
   "version": "2.4.0"
  }
 },
 "nbformat": 4,
 "nbformat_minor": 5
}
